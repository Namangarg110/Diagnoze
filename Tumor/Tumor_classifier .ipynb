{
 "cells": [
  {
   "cell_type": "code",
   "execution_count": 14,
   "metadata": {},
   "outputs": [
    {
     "name": "stdout",
     "output_type": "stream",
     "text": [
      "Num GPUs Available:  0\n"
     ]
    }
   ],
   "source": [
    "import os\n",
    "import tensorflow as tf\n",
    "from tensorflow import keras\n",
    "from tensorflow.keras.models import Sequential\n",
    "from tensorflow.keras.layers import Conv2D, MaxPooling2D, Dense, Dropout, Activation, Flatten, BatchNormalization\n",
    "from tensorflow.keras import regularizers\n",
    "import keras\n",
    "from keras.models import Sequential\n",
    "from keras.utils import np_utils\n",
    "from keras.layers import Dense,Dropout,Activation,Flatten,BatchNormalization\n",
    "from keras.layers import Conv2D,MaxPooling2D\n",
    "from keras import regularizers\n",
    "from keras.models import load_model\n",
    "print(\"Num GPUs Available: \", len(tf.config.experimental.list_physical_devices('GPU')))"
   ]
  },
  {
   "cell_type": "code",
   "execution_count": 15,
   "metadata": {},
   "outputs": [
    {
     "data": {
      "text/plain": [
       "['glioma_tumor', 'meningioma_tumor', 'no_tumor', 'pituitary_tumor']"
      ]
     },
     "execution_count": 15,
     "metadata": {},
     "output_type": "execute_result"
    }
   ],
   "source": [
    "os.listdir('./data/Training')"
   ]
  },
  {
   "cell_type": "code",
   "execution_count": 16,
   "metadata": {},
   "outputs": [],
   "source": [
    "loc0 = './data/Training/no_tumor'\n",
    "loc1 = './data/Training/pituitary_tumor'\n",
    "loc2 = './data/Training/meningioma_tumor'\n",
    "loc3 = './data/Training/glioma_tumor'"
   ]
  },
  {
   "cell_type": "code",
   "execution_count": 17,
   "metadata": {},
   "outputs": [
    {
     "name": "stderr",
     "output_type": "stream",
     "text": [
      "100%|██████████| 395/395 [00:10<00:00, 38.64it/s]\n",
      "100%|██████████| 827/827 [00:26<00:00, 31.65it/s]\n",
      "100%|██████████| 822/822 [00:09<00:00, 83.75it/s]\n",
      "100%|██████████| 826/826 [00:10<00:00, 80.98it/s]\n"
     ]
    }
   ],
   "source": [
    "import cv2\n",
    "from tqdm import tqdm\n",
    "features = []\n",
    "\n",
    "for img in tqdm(os.listdir(loc0)):\n",
    "    f = cv2.imread(os.path.join(loc0,img))\n",
    "    fr = cv2.resize(f,(70,70))\n",
    "    features.append(fr)\n",
    "    \n",
    "for img in tqdm(os.listdir(loc1)):\n",
    "    f = cv2.imread(os.path.join(loc1,img))\n",
    "    fr = cv2.resize(f,(70,70))\n",
    "    features.append(fr)\n",
    "    \n",
    "for img in tqdm(os.listdir(loc2)):\n",
    "    f = cv2.imread(os.path.join(loc2,img))\n",
    "    fr = cv2.resize(f,(70,70))\n",
    "    features.append(fr)\n",
    "    \n",
    "for img in tqdm(os.listdir(loc3)):\n",
    "    f = cv2.imread(os.path.join(loc3,img))\n",
    "    fr = cv2.resize(f,(70,70))\n",
    "    features.append(fr)"
   ]
  },
  {
   "cell_type": "code",
   "execution_count": null,
   "metadata": {},
   "outputs": [],
   "source": []
  },
  {
   "cell_type": "code",
   "execution_count": 18,
   "metadata": {},
   "outputs": [
    {
     "name": "stderr",
     "output_type": "stream",
     "text": [
      "100%|██████████| 395/395 [00:00<00:00, 940800.73it/s]\n",
      "100%|██████████| 827/827 [00:00<00:00, 3232702.15it/s]\n",
      "100%|██████████| 822/822 [00:00<00:00, 2419451.15it/s]\n",
      "100%|██████████| 826/826 [00:00<00:00, 2882275.46it/s]\n"
     ]
    }
   ],
   "source": [
    "labels = []\n",
    "for img in tqdm(os.listdir(loc0)):\n",
    "    labels.append(0) #no tumor \n",
    "    \n",
    "for img in tqdm(os.listdir(loc1)):\n",
    "    labels.append(1) #pituitary_tumor\n",
    "    \n",
    "for img in tqdm(os.listdir(loc2)):\n",
    "    labels.append(2) #meningioma_tumor\n",
    "    \n",
    "for img in tqdm(os.listdir(loc3)):\n",
    "    labels.append(3) #glioma_tumor"
   ]
  },
  {
   "cell_type": "code",
   "execution_count": 19,
   "metadata": {},
   "outputs": [],
   "source": [
    "import numpy as np\n",
    "X = np.array(features)\n",
    "Y = np.array(labels)"
   ]
  },
  {
   "cell_type": "code",
   "execution_count": 20,
   "metadata": {},
   "outputs": [
    {
     "name": "stdout",
     "output_type": "stream",
     "text": [
      "(2870, 70, 70, 3)\n",
      "(2870,)\n"
     ]
    }
   ],
   "source": [
    "print(X.shape)\n",
    "print(Y.shape)"
   ]
  },
  {
   "cell_type": "code",
   "execution_count": 21,
   "metadata": {},
   "outputs": [],
   "source": [
    "#Define a CNN model to make predictions\n",
    "weight_decay = 1e-4\n",
    "model = Sequential()\n",
    "\n",
    "#1st Convolutional Layer\n",
    "model.add(Conv2D(32,(3,3),padding='same',kernel_regularizer=regularizers.l2(weight_decay) ,input_shape=X.shape[1:]))\n",
    "model.add(Activation('relu'))\n",
    "model.add(BatchNormalization())\n",
    "model.add(MaxPooling2D(pool_size=(2,2)))\n",
    "model.add(Dropout(0.4))\n",
    "\n",
    "#2nd Convolutional Layer\n",
    "model.add(Conv2D(64,(3,3), kernel_regularizer=regularizers.l2(weight_decay) , padding='same'))\n",
    "model.add(Activation('relu'))\n",
    "model.add(BatchNormalization())\n",
    "model.add(MaxPooling2D(pool_size=(2,2)))\n",
    "model.add(Dropout(0.3))\n",
    "\n",
    "#3rd Convolutional Layer\n",
    "model.add(Conv2D(128,(3,3), kernel_regularizer=regularizers.l2(weight_decay) , padding='same'))\n",
    "model.add(Activation('relu'))\n",
    "model.add(BatchNormalization())\n",
    "model.add(MaxPooling2D(pool_size=(2,2)))\n",
    "model.add(Dropout(0.4))\n",
    "\n",
    "#4th Convolutional Layer\n",
    "model.add(Conv2D(256,(3,3), kernel_regularizer=regularizers.l2(weight_decay) , padding='same'))\n",
    "model.add(Activation('relu'))\n",
    "model.add(BatchNormalization())\n",
    "model.add(MaxPooling2D(pool_size=(2,2)))\n",
    "model.add(Dropout(0.3))\n",
    "\n",
    "#5th Convolutional Layer\n",
    "model.add(Conv2D(512,(3,3), kernel_regularizer=regularizers.l2(weight_decay) , padding='same'))\n",
    "model.add(Activation('relu'))\n",
    "model.add(BatchNormalization())\n",
    "model.add(MaxPooling2D(pool_size=(2,2)))\n",
    "model.add(Dropout(0.4))\n",
    "\n",
    "#6th Convolutional Layer\n",
    "model.add(Conv2D(1024,(3,3), kernel_regularizer=regularizers.l2(weight_decay) , padding='same'))\n",
    "model.add(Activation('relu'))\n",
    "model.add(BatchNormalization())\n",
    "model.add(MaxPooling2D(pool_size=(2,2)))\n",
    "model.add(Dropout(0.3))\n",
    "\n",
    "#Fully connected layer\n",
    "model.add(Flatten())\n",
    "model.add(Dense(32,activation='relu'))\n",
    "model.add(Dropout(0.4))\n",
    "model.add(Dense(4,activation='softmax'))"
   ]
  },
  {
   "cell_type": "code",
   "execution_count": 22,
   "metadata": {},
   "outputs": [
    {
     "name": "stdout",
     "output_type": "stream",
     "text": [
      "Model: \"sequential\"\n",
      "_________________________________________________________________\n",
      "Layer (type)                 Output Shape              Param #   \n",
      "=================================================================\n",
      "conv2d (Conv2D)              (None, 70, 70, 32)        896       \n",
      "_________________________________________________________________\n",
      "activation (Activation)      (None, 70, 70, 32)        0         \n",
      "_________________________________________________________________\n",
      "batch_normalization (BatchNo (None, 70, 70, 32)        128       \n",
      "_________________________________________________________________\n",
      "max_pooling2d (MaxPooling2D) (None, 35, 35, 32)        0         \n",
      "_________________________________________________________________\n",
      "dropout (Dropout)            (None, 35, 35, 32)        0         \n",
      "_________________________________________________________________\n",
      "conv2d_1 (Conv2D)            (None, 35, 35, 64)        18496     \n",
      "_________________________________________________________________\n",
      "activation_1 (Activation)    (None, 35, 35, 64)        0         \n",
      "_________________________________________________________________\n",
      "batch_normalization_1 (Batch (None, 35, 35, 64)        256       \n",
      "_________________________________________________________________\n",
      "max_pooling2d_1 (MaxPooling2 (None, 17, 17, 64)        0         \n",
      "_________________________________________________________________\n",
      "dropout_1 (Dropout)          (None, 17, 17, 64)        0         \n",
      "_________________________________________________________________\n",
      "conv2d_2 (Conv2D)            (None, 17, 17, 128)       73856     \n",
      "_________________________________________________________________\n",
      "activation_2 (Activation)    (None, 17, 17, 128)       0         \n",
      "_________________________________________________________________\n",
      "batch_normalization_2 (Batch (None, 17, 17, 128)       512       \n",
      "_________________________________________________________________\n",
      "max_pooling2d_2 (MaxPooling2 (None, 8, 8, 128)         0         \n",
      "_________________________________________________________________\n",
      "dropout_2 (Dropout)          (None, 8, 8, 128)         0         \n",
      "_________________________________________________________________\n",
      "conv2d_3 (Conv2D)            (None, 8, 8, 256)         295168    \n",
      "_________________________________________________________________\n",
      "activation_3 (Activation)    (None, 8, 8, 256)         0         \n",
      "_________________________________________________________________\n",
      "batch_normalization_3 (Batch (None, 8, 8, 256)         1024      \n",
      "_________________________________________________________________\n",
      "max_pooling2d_3 (MaxPooling2 (None, 4, 4, 256)         0         \n",
      "_________________________________________________________________\n",
      "dropout_3 (Dropout)          (None, 4, 4, 256)         0         \n",
      "_________________________________________________________________\n",
      "conv2d_4 (Conv2D)            (None, 4, 4, 512)         1180160   \n",
      "_________________________________________________________________\n",
      "activation_4 (Activation)    (None, 4, 4, 512)         0         \n",
      "_________________________________________________________________\n",
      "batch_normalization_4 (Batch (None, 4, 4, 512)         2048      \n",
      "_________________________________________________________________\n",
      "max_pooling2d_4 (MaxPooling2 (None, 2, 2, 512)         0         \n",
      "_________________________________________________________________\n",
      "dropout_4 (Dropout)          (None, 2, 2, 512)         0         \n",
      "_________________________________________________________________\n",
      "conv2d_5 (Conv2D)            (None, 2, 2, 1024)        4719616   \n",
      "_________________________________________________________________\n",
      "activation_5 (Activation)    (None, 2, 2, 1024)        0         \n",
      "_________________________________________________________________\n",
      "batch_normalization_5 (Batch (None, 2, 2, 1024)        4096      \n",
      "_________________________________________________________________\n",
      "max_pooling2d_5 (MaxPooling2 (None, 1, 1, 1024)        0         \n",
      "_________________________________________________________________\n",
      "dropout_5 (Dropout)          (None, 1, 1, 1024)        0         \n",
      "_________________________________________________________________\n",
      "flatten (Flatten)            (None, 1024)              0         \n",
      "_________________________________________________________________\n",
      "dense (Dense)                (None, 32)                32800     \n",
      "_________________________________________________________________\n",
      "dropout_6 (Dropout)          (None, 32)                0         \n",
      "_________________________________________________________________\n",
      "dense_1 (Dense)              (None, 4)                 132       \n",
      "=================================================================\n",
      "Total params: 6,329,188\n",
      "Trainable params: 6,325,156\n",
      "Non-trainable params: 4,032\n",
      "_________________________________________________________________\n"
     ]
    }
   ],
   "source": [
    "model.summary()"
   ]
  },
  {
   "cell_type": "code",
   "execution_count": 23,
   "metadata": {},
   "outputs": [],
   "source": [
    "#Compile your model\n",
    "\n",
    "from keras import optimizers\n",
    "from keras import metrics\n",
    "\n",
    "sgd = optimizers.SGD(0.1)\n",
    "\n",
    "model.compile(optimizer=sgd,\n",
    "             loss = 'binary_crossentropy',\n",
    "             metrics=['accuracy'])"
   ]
  },
  {
   "cell_type": "code",
   "execution_count": 24,
   "metadata": {},
   "outputs": [],
   "source": [
    "from sklearn.model_selection import train_test_split\n",
    "xtrain,xtest,ytrain,ytest = train_test_split(X,Y,train_size=0.8)"
   ]
  },
  {
   "cell_type": "code",
   "execution_count": 25,
   "metadata": {},
   "outputs": [],
   "source": [
    "xtrain_n = xtrain/xtrain.max()\n",
    "xtest_n = xtest/xtest.max()"
   ]
  },
  {
   "cell_type": "code",
   "execution_count": 26,
   "metadata": {},
   "outputs": [],
   "source": [
    "ytrain_h = np_utils.to_categorical(ytrain)\n",
    "ytest_h = np_utils.to_categorical(ytest)"
   ]
  },
  {
   "cell_type": "code",
   "execution_count": null,
   "metadata": {},
   "outputs": [
    {
     "name": "stdout",
     "output_type": "stream",
     "text": [
      "Epoch 1/100\n",
      "72/72 [==============================] - 59s 790ms/step - loss: 0.7604 - accuracy: 0.4294 - val_loss: 0.8201 - val_accuracy: 0.3328\n",
      "Epoch 2/100\n",
      "72/72 [==============================] - 60s 833ms/step - loss: 0.5764 - accuracy: 0.5833 - val_loss: 0.8093 - val_accuracy: 0.3293\n",
      "Epoch 3/100\n",
      "72/72 [==============================] - 63s 874ms/step - loss: 0.5465 - accuracy: 0.5843 - val_loss: 1.0262 - val_accuracy: 0.3206\n",
      "Epoch 4/100\n",
      "72/72 [==============================] - 56s 772ms/step - loss: 0.5417 - accuracy: 0.5929 - val_loss: 1.0639 - val_accuracy: 0.3293\n",
      "Epoch 5/100\n",
      "72/72 [==============================] - 49s 681ms/step - loss: 0.5121 - accuracy: 0.6517 - val_loss: 1.3046 - val_accuracy: 0.3502\n",
      "Epoch 6/100\n",
      "72/72 [==============================] - 55s 768ms/step - loss: 0.5206 - accuracy: 0.6280 - val_loss: 0.9567 - val_accuracy: 0.5000\n",
      "Epoch 7/100\n",
      "72/72 [==============================] - 55s 765ms/step - loss: 0.4726 - accuracy: 0.7066 - val_loss: 0.8027 - val_accuracy: 0.5610\n",
      "Epoch 8/100\n",
      "72/72 [==============================] - 67s 934ms/step - loss: 0.4663 - accuracy: 0.7081 - val_loss: 1.0526 - val_accuracy: 0.4756\n",
      "Epoch 9/100\n",
      "72/72 [==============================] - 85s 1s/step - loss: 0.4726 - accuracy: 0.6827 - val_loss: 0.7950 - val_accuracy: 0.5662\n",
      "Epoch 10/100\n",
      "72/72 [==============================] - 74s 1s/step - loss: 0.4564 - accuracy: 0.7220 - val_loss: 0.9633 - val_accuracy: 0.5348\n",
      "Epoch 11/100\n",
      "72/72 [==============================] - 55s 769ms/step - loss: 0.4430 - accuracy: 0.7137 - val_loss: 0.8385 - val_accuracy: 0.5889\n",
      "Epoch 12/100\n",
      "72/72 [==============================] - 47s 655ms/step - loss: 0.4162 - accuracy: 0.7445 - val_loss: 1.0792 - val_accuracy: 0.5314\n",
      "Epoch 13/100\n",
      "72/72 [==============================] - 46s 643ms/step - loss: 0.4121 - accuracy: 0.7378 - val_loss: 1.0398 - val_accuracy: 0.5366\n",
      "Epoch 14/100\n",
      "72/72 [==============================] - 49s 677ms/step - loss: 0.4100 - accuracy: 0.7636 - val_loss: 0.6174 - val_accuracy: 0.7300\n",
      "Epoch 15/100\n",
      "72/72 [==============================] - 58s 812ms/step - loss: 0.4055 - accuracy: 0.7664 - val_loss: 0.4832 - val_accuracy: 0.7509\n",
      "Epoch 16/100\n",
      "72/72 [==============================] - 56s 781ms/step - loss: 0.4098 - accuracy: 0.7574 - val_loss: 0.5949 - val_accuracy: 0.7056\n",
      "Epoch 17/100\n",
      "72/72 [==============================] - 49s 688ms/step - loss: 0.3947 - accuracy: 0.7798 - val_loss: 0.8957 - val_accuracy: 0.5749\n",
      "Epoch 18/100\n",
      "72/72 [==============================] - 49s 686ms/step - loss: 0.3729 - accuracy: 0.7925 - val_loss: 0.6500 - val_accuracy: 0.7317\n",
      "Epoch 19/100\n",
      "72/72 [==============================] - 62s 862ms/step - loss: 0.3712 - accuracy: 0.8015 - val_loss: 0.5344 - val_accuracy: 0.7509\n",
      "Epoch 20/100\n",
      "72/72 [==============================] - 89s 1s/step - loss: 0.3629 - accuracy: 0.8127 - val_loss: 0.6122 - val_accuracy: 0.7544\n",
      "Epoch 21/100\n",
      "72/72 [==============================] - 101s 1s/step - loss: 0.3625 - accuracy: 0.8144 - val_loss: 0.5035 - val_accuracy: 0.7787\n",
      "Epoch 22/100\n",
      "72/72 [==============================] - 76s 1s/step - loss: 0.3480 - accuracy: 0.8129 - val_loss: 0.3731 - val_accuracy: 0.8275\n",
      "Epoch 23/100\n",
      "72/72 [==============================] - 64s 898ms/step - loss: 0.3615 - accuracy: 0.8337 - val_loss: 0.9432 - val_accuracy: 0.5470\n",
      "Epoch 24/100\n",
      "72/72 [==============================] - 79s 1s/step - loss: 0.3299 - accuracy: 0.8587 - val_loss: 0.6638 - val_accuracy: 0.6324\n",
      "Epoch 25/100\n",
      "72/72 [==============================] - 68s 942ms/step - loss: 0.3323 - accuracy: 0.8489 - val_loss: 0.6770 - val_accuracy: 0.6986\n",
      "Epoch 26/100\n",
      "72/72 [==============================] - 73s 1s/step - loss: 0.3339 - accuracy: 0.8449 - val_loss: 0.6935 - val_accuracy: 0.6742\n",
      "Epoch 27/100\n",
      "72/72 [==============================] - 78s 1s/step - loss: 0.3143 - accuracy: 0.8629 - val_loss: 0.3763 - val_accuracy: 0.8258\n",
      "Epoch 28/100\n",
      "72/72 [==============================] - 80s 1s/step - loss: 0.3156 - accuracy: 0.8674 - val_loss: 0.5771 - val_accuracy: 0.7439\n",
      "Epoch 29/100\n",
      "72/72 [==============================] - 53s 739ms/step - loss: 0.3082 - accuracy: 0.8654 - val_loss: 0.4959 - val_accuracy: 0.7787\n",
      "Epoch 30/100\n",
      "72/72 [==============================] - 61s 847ms/step - loss: 0.3169 - accuracy: 0.8649 - val_loss: 0.4378 - val_accuracy: 0.8275\n",
      "Epoch 31/100\n",
      "72/72 [==============================] - 70s 975ms/step - loss: 0.3084 - accuracy: 0.8800 - val_loss: 0.5110 - val_accuracy: 0.7822\n",
      "Epoch 32/100\n",
      "72/72 [==============================] - 70s 967ms/step - loss: 0.2938 - accuracy: 0.8806 - val_loss: 0.3993 - val_accuracy: 0.8502\n",
      "Epoch 33/100\n",
      "72/72 [==============================] - 69s 953ms/step - loss: 0.2840 - accuracy: 0.8827 - val_loss: 0.3769 - val_accuracy: 0.8659\n",
      "Epoch 34/100\n",
      "72/72 [==============================] - 70s 978ms/step - loss: 0.2949 - accuracy: 0.8848 - val_loss: 0.3742 - val_accuracy: 0.8554\n",
      "Epoch 35/100\n",
      "72/72 [==============================] - 70s 969ms/step - loss: 0.2793 - accuracy: 0.8966 - val_loss: 0.4899 - val_accuracy: 0.8380\n",
      "Epoch 36/100\n",
      "72/72 [==============================] - 69s 956ms/step - loss: 0.2657 - accuracy: 0.9091 - val_loss: 0.3060 - val_accuracy: 0.8990\n",
      "Epoch 37/100\n",
      "72/72 [==============================] - 68s 938ms/step - loss: 0.2643 - accuracy: 0.9140 - val_loss: 0.3855 - val_accuracy: 0.8798\n",
      "Epoch 38/100\n",
      "72/72 [==============================] - 66s 919ms/step - loss: 0.2787 - accuracy: 0.9007 - val_loss: 0.4020 - val_accuracy: 0.8589\n",
      "Epoch 39/100\n",
      "72/72 [==============================] - 66s 923ms/step - loss: 0.2602 - accuracy: 0.8965 - val_loss: 0.4020 - val_accuracy: 0.8519\n",
      "Epoch 40/100\n",
      "72/72 [==============================] - 67s 926ms/step - loss: 0.2803 - accuracy: 0.9137 - val_loss: 0.4743 - val_accuracy: 0.8136\n",
      "Epoch 41/100\n",
      "72/72 [==============================] - 67s 936ms/step - loss: 0.2566 - accuracy: 0.9083 - val_loss: 0.6019 - val_accuracy: 0.7334\n",
      "Epoch 42/100\n",
      "72/72 [==============================] - 66s 923ms/step - loss: 0.2657 - accuracy: 0.9130 - val_loss: 0.4876 - val_accuracy: 0.8519\n",
      "Epoch 43/100\n",
      "72/72 [==============================] - 65s 899ms/step - loss: 0.2485 - accuracy: 0.9283 - val_loss: 0.3666 - val_accuracy: 0.8763\n",
      "Epoch 44/100\n",
      "72/72 [==============================] - 60s 833ms/step - loss: 0.2724 - accuracy: 0.9203 - val_loss: 0.4359 - val_accuracy: 0.8449\n",
      "Epoch 45/100\n",
      "72/72 [==============================] - 59s 820ms/step - loss: 0.2295 - accuracy: 0.9372 - val_loss: 0.3875 - val_accuracy: 0.8728\n",
      "Epoch 46/100\n",
      "72/72 [==============================] - 60s 835ms/step - loss: 0.2474 - accuracy: 0.9312 - val_loss: 0.3798 - val_accuracy: 0.8275\n",
      "Epoch 47/100\n",
      "72/72 [==============================] - 59s 814ms/step - loss: 0.2310 - accuracy: 0.9404 - val_loss: 0.3158 - val_accuracy: 0.8955\n",
      "Epoch 48/100\n",
      "72/72 [==============================] - 58s 799ms/step - loss: 0.2344 - accuracy: 0.9337 - val_loss: 0.4904 - val_accuracy: 0.8171\n",
      "Epoch 49/100\n",
      "72/72 [==============================] - 58s 807ms/step - loss: 0.2310 - accuracy: 0.9338 - val_loss: 0.2880 - val_accuracy: 0.9077\n",
      "Epoch 50/100\n",
      "72/72 [==============================] - 58s 809ms/step - loss: 0.2485 - accuracy: 0.9280 - val_loss: 0.3858 - val_accuracy: 0.8519\n",
      "Epoch 51/100\n",
      "72/72 [==============================] - 58s 810ms/step - loss: 0.2434 - accuracy: 0.9289 - val_loss: 0.4188 - val_accuracy: 0.8328\n",
      "Epoch 52/100\n",
      "72/72 [==============================] - 58s 800ms/step - loss: 0.2369 - accuracy: 0.9264 - val_loss: 0.5045 - val_accuracy: 0.8031\n",
      "Epoch 53/100\n",
      "72/72 [==============================] - 58s 805ms/step - loss: 0.2297 - accuracy: 0.9392 - val_loss: 0.2982 - val_accuracy: 0.9129\n",
      "Epoch 54/100\n",
      "72/72 [==============================] - 58s 802ms/step - loss: 0.2403 - accuracy: 0.9349 - val_loss: 0.4043 - val_accuracy: 0.8728\n",
      "Epoch 55/100\n",
      "72/72 [==============================] - 58s 810ms/step - loss: 0.2506 - accuracy: 0.9267 - val_loss: 0.3423 - val_accuracy: 0.9094\n",
      "Epoch 56/100\n",
      "72/72 [==============================] - 59s 815ms/step - loss: 0.2254 - accuracy: 0.9342 - val_loss: 0.2494 - val_accuracy: 0.9373\n",
      "Epoch 57/100\n",
      "72/72 [==============================] - 57s 795ms/step - loss: 0.2203 - accuracy: 0.9462 - val_loss: 0.2496 - val_accuracy: 0.9355\n"
     ]
    },
    {
     "name": "stdout",
     "output_type": "stream",
     "text": [
      "Epoch 58/100\n",
      "72/72 [==============================] - 64s 892ms/step - loss: 0.2225 - accuracy: 0.9481 - val_loss: 0.5701 - val_accuracy: 0.7979\n",
      "Epoch 59/100\n",
      "72/72 [==============================] - 68s 948ms/step - loss: 0.2097 - accuracy: 0.9561 - val_loss: 0.3062 - val_accuracy: 0.9059\n",
      "Epoch 60/100\n",
      "72/72 [==============================] - 67s 930ms/step - loss: 0.2222 - accuracy: 0.9465 - val_loss: 0.2919 - val_accuracy: 0.9181\n",
      "Epoch 61/100\n",
      "72/72 [==============================] - 66s 919ms/step - loss: 0.2295 - accuracy: 0.9369 - val_loss: 0.3351 - val_accuracy: 0.9129\n",
      "Epoch 62/100\n",
      "72/72 [==============================] - 62s 862ms/step - loss: 0.2347 - accuracy: 0.9360 - val_loss: 0.2875 - val_accuracy: 0.9233\n",
      "Epoch 63/100\n",
      "72/72 [==============================] - 58s 810ms/step - loss: 0.2143 - accuracy: 0.9491 - val_loss: 0.3879 - val_accuracy: 0.8920\n",
      "Epoch 64/100\n",
      "72/72 [==============================] - 58s 812ms/step - loss: 0.2111 - accuracy: 0.9518 - val_loss: 0.2901 - val_accuracy: 0.9216\n",
      "Epoch 65/100\n",
      "72/72 [==============================] - 58s 811ms/step - loss: 0.2427 - accuracy: 0.9365 - val_loss: 0.3106 - val_accuracy: 0.9059\n",
      "Epoch 66/100\n",
      "72/72 [==============================] - 59s 822ms/step - loss: 0.2082 - accuracy: 0.9540 - val_loss: 0.2909 - val_accuracy: 0.9268\n",
      "Epoch 67/100\n",
      "72/72 [==============================] - 59s 816ms/step - loss: 0.2133 - accuracy: 0.9509 - val_loss: 0.3300 - val_accuracy: 0.9181\n",
      "Epoch 68/100\n",
      "72/72 [==============================] - 60s 827ms/step - loss: 0.2093 - accuracy: 0.9582 - val_loss: 0.3655 - val_accuracy: 0.8746\n",
      "Epoch 69/100\n",
      "72/72 [==============================] - 59s 822ms/step - loss: 0.2025 - accuracy: 0.9548 - val_loss: 0.3814 - val_accuracy: 0.8850\n",
      "Epoch 70/100\n",
      "72/72 [==============================] - 45s 627ms/step - loss: 0.2087 - accuracy: 0.9590 - val_loss: 0.3887 - val_accuracy: 0.8833\n",
      "Epoch 71/100\n",
      "72/72 [==============================] - 45s 618ms/step - loss: 0.1931 - accuracy: 0.9696 - val_loss: 0.3026 - val_accuracy: 0.9268\n",
      "Epoch 72/100\n",
      "72/72 [==============================] - 44s 610ms/step - loss: 0.1935 - accuracy: 0.9623 - val_loss: 0.3141 - val_accuracy: 0.9355\n",
      "Epoch 73/100\n",
      "72/72 [==============================] - 43s 604ms/step - loss: 0.1938 - accuracy: 0.9646 - val_loss: 0.3099 - val_accuracy: 0.9268\n",
      "Epoch 74/100\n",
      "72/72 [==============================] - 44s 608ms/step - loss: 0.1988 - accuracy: 0.9680 - val_loss: 0.3325 - val_accuracy: 0.8920\n",
      "Epoch 75/100\n",
      "72/72 [==============================] - 44s 609ms/step - loss: 0.1932 - accuracy: 0.9716 - val_loss: 0.2292 - val_accuracy: 0.9495\n",
      "Epoch 76/100\n",
      "72/72 [==============================] - 44s 617ms/step - loss: 0.1983 - accuracy: 0.9605 - val_loss: 0.2736 - val_accuracy: 0.9233\n",
      "Epoch 77/100\n",
      "72/72 [==============================] - 44s 610ms/step - loss: 0.2083 - accuracy: 0.9552 - val_loss: 0.3717 - val_accuracy: 0.8920\n",
      "Epoch 78/100\n",
      "72/72 [==============================] - 44s 613ms/step - loss: 0.1901 - accuracy: 0.9683 - val_loss: 0.3109 - val_accuracy: 0.9425\n",
      "Epoch 79/100\n",
      "72/72 [==============================] - 44s 610ms/step - loss: 0.1970 - accuracy: 0.9694 - val_loss: 0.2648 - val_accuracy: 0.9425\n",
      "Epoch 80/100\n",
      "72/72 [==============================] - 44s 609ms/step - loss: 0.1998 - accuracy: 0.9685 - val_loss: 0.4920 - val_accuracy: 0.8397\n",
      "Epoch 81/100\n",
      "72/72 [==============================] - 44s 604ms/step - loss: 0.1840 - accuracy: 0.9742 - val_loss: 0.3816 - val_accuracy: 0.8885\n",
      "Epoch 82/100\n",
      "19/72 [======>.......................] - ETA: 31s - loss: 0.2320 - accuracy: 0.9534"
     ]
    }
   ],
   "source": [
    "model.fit(xtrain_n,ytrain_h,\n",
    "         epochs=100,\n",
    "         validation_data=(xtest_n,ytest_h))"
   ]
  },
  {
   "cell_type": "code",
   "execution_count": 27,
   "metadata": {},
   "outputs": [],
   "source": [
    "model=load_model('tumor_CNN.h5')"
   ]
  },
  {
   "cell_type": "code",
   "execution_count": 28,
   "metadata": {},
   "outputs": [
    {
     "name": "stdout",
     "output_type": "stream",
     "text": [
      "72/72 [==============================] - 4s 58ms/step - loss: 0.1802 - accuracy: 0.9830\n"
     ]
    },
    {
     "data": {
      "text/plain": [
       "[0.18023426830768585, 0.983013927936554]"
      ]
     },
     "execution_count": 28,
     "metadata": {},
     "output_type": "execute_result"
    }
   ],
   "source": [
    "model.evaluate(xtrain_n,ytrain_h)"
   ]
  },
  {
   "cell_type": "code",
   "execution_count": 29,
   "metadata": {},
   "outputs": [
    {
     "name": "stdout",
     "output_type": "stream",
     "text": [
      "18/18 [==============================] - 1s 55ms/step - loss: 0.1679 - accuracy: 0.9791\n"
     ]
    },
    {
     "data": {
      "text/plain": [
       "[0.16789743304252625, 0.9790940880775452]"
      ]
     },
     "execution_count": 29,
     "metadata": {},
     "output_type": "execute_result"
    }
   ],
   "source": [
    "model.evaluate(xtest_n,ytest_h)\n"
   ]
  },
  {
   "cell_type": "code",
   "execution_count": 30,
   "metadata": {},
   "outputs": [],
   "source": [
    "ytest_pred = []\n",
    "preds = model.predict(xtest_n)\n",
    "for p in preds:\n",
    "    ytest_pred.append(np.argmax(p))"
   ]
  },
  {
   "cell_type": "code",
   "execution_count": 31,
   "metadata": {},
   "outputs": [
    {
     "data": {
      "text/plain": [
       "array([[ 84,   1,   1,   0],\n",
       "       [  0, 169,   1,   0],\n",
       "       [  6,   0, 163,   2],\n",
       "       [  0,   0,   1, 146]])"
      ]
     },
     "execution_count": 31,
     "metadata": {},
     "output_type": "execute_result"
    }
   ],
   "source": [
    "from sklearn.metrics import confusion_matrix\n",
    "confusion_matrix(ytest,ytest_pred)"
   ]
  },
  {
   "cell_type": "code",
   "execution_count": 32,
   "metadata": {},
   "outputs": [
    {
     "data": {
      "text/plain": [
       "(2296, 70, 70, 3)"
      ]
     },
     "execution_count": 32,
     "metadata": {},
     "output_type": "execute_result"
    }
   ],
   "source": [
    "xtrain_n.shape\n"
   ]
  },
  {
   "cell_type": "code",
   "execution_count": 47,
   "metadata": {},
   "outputs": [
    {
     "data": {
      "text/plain": [
       "(70, 70, 3)"
      ]
     },
     "execution_count": 47,
     "metadata": {},
     "output_type": "execute_result"
    }
   ],
   "source": [
    "xtest_n[90].shape\n"
   ]
  },
  {
   "cell_type": "code",
   "execution_count": 57,
   "metadata": {},
   "outputs": [
    {
     "name": "stdout",
     "output_type": "stream",
     "text": [
      "Predictions pituitary_tumor\n",
      "Actual pituitary_tumor\n"
     ]
    },
    {
     "data": {
      "image/png": "[encoded data removed]",
      "text/plain": [
       "<Figure size 432x288 with 1 Axes>"
      ]
     },
     "metadata": {
      "needs_background": "light"
     },
     "output_type": "display_data"
    }
   ],
   "source": [
    "predictions = ['no_tumor', 'pituitary_tumor', 'meningioma_tumor', 'glioma_tumor']\n",
    "x=121\n",
    "\n",
    "print('Predictions',predictions[np.argmax(model.predict(xtest_n[i].reshape(1,70,70,3)))])\n",
    "print('Actual',predictions[ytest[i]])\n",
    "\n",
    "\n",
    "import matplotlib.pyplot as plt\n",
    "plt.imshow(xtest_n[90])\n",
    "plt.show()"
   ]
  },
  {
   "cell_type": "code",
   "execution_count": 58,
   "metadata": {},
   "outputs": [
    {
     "name": "stdout",
     "output_type": "stream",
     "text": [
      "Predictions 3\n"
     ]
    },
    {
     "data": {
      "image/png": "[encoded data removed]",
      "text/plain": [
       "<Figure size 432x288 with 1 Axes>"
      ]
     },
     "metadata": {
      "needs_background": "light"
     },
     "output_type": "display_data"
    }
   ],
   "source": [
    "path = './data/Training/glioma_tumor/gg (10).jpg'\n",
    "img = cv2.imread(path)\n",
    "img = cv2.resize(img,(70,70))\n",
    "img = img/xtrain.max()\n",
    "print('Predictions',np.argmax(model.predict(img.reshape(1,70,70,3))))\n",
    "\n",
    "import matplotlib.pyplot as plt\n",
    "plt.imshow(img)\n",
    "plt.show()"
   ]
  },
  {
   "cell_type": "code",
   "execution_count": 59,
   "metadata": {},
   "outputs": [
    {
     "data": {
      "text/plain": [
       "255"
      ]
     },
     "execution_count": 59,
     "metadata": {},
     "output_type": "execute_result"
    }
   ],
   "source": [
    "xtrain.max()"
   ]
  },
  {
   "cell_type": "code",
   "execution_count": null,
   "metadata": {},
   "outputs": [],
   "source": []
  }
 ],
 "metadata": {
  "kernelspec": {
   "display_name": "Python 3",
   "language": "python",
   "name": "python3"
  },
  "language_info": {
   "codemirror_mode": {
    "name": "ipython",
    "version": 3
   },
   "file_extension": ".py",
   "mimetype": "text/x-python",
   "name": "python",
   "nbconvert_exporter": "python",
   "pygments_lexer": "ipython3",
   "version": "3.8.5"
  }
 },
 "nbformat": 4,
 "nbformat_minor": 4
}
